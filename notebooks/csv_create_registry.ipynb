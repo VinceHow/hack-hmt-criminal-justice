{
 "cells": [
  {
   "cell_type": "code",
   "execution_count": 2,
   "metadata": {},
   "outputs": [
    {
     "name": "stdout",
     "output_type": "stream",
     "text": [
      "Collecting azure-storage-blob\n",
      "  Downloading azure_storage_blob-12.24.1-py3-none-any.whl (408 kB)\n",
      "\u001b[K     |████████████████████████████████| 408 kB 1.1 MB/s eta 0:00:01\n",
      "\u001b[?25hRequirement already satisfied: isodate>=0.6.1 in /Users/anastasiagordeeva/projects/hack-hmt-criminal-justice/.venv/lib/python3.9/site-packages (from azure-storage-blob) (0.7.2)\n",
      "Requirement already satisfied: azure-core>=1.30.0 in /Users/anastasiagordeeva/projects/hack-hmt-criminal-justice/.venv/lib/python3.9/site-packages (from azure-storage-blob) (1.32.0)\n",
      "Requirement already satisfied: typing-extensions>=4.6.0 in /Users/anastasiagordeeva/projects/hack-hmt-criminal-justice/.venv/lib/python3.9/site-packages (from azure-storage-blob) (4.12.2)\n",
      "Requirement already satisfied: cryptography>=2.1.4 in /Users/anastasiagordeeva/projects/hack-hmt-criminal-justice/.venv/lib/python3.9/site-packages (from azure-storage-blob) (44.0.0)\n",
      "Requirement already satisfied: requests>=2.21.0 in /Users/anastasiagordeeva/projects/hack-hmt-criminal-justice/.venv/lib/python3.9/site-packages (from azure-core>=1.30.0->azure-storage-blob) (2.32.3)\n",
      "Requirement already satisfied: six>=1.11.0 in /Users/anastasiagordeeva/projects/hack-hmt-criminal-justice/.venv/lib/python3.9/site-packages (from azure-core>=1.30.0->azure-storage-blob) (1.17.0)\n",
      "Requirement already satisfied: cffi>=1.12 in /Users/anastasiagordeeva/projects/hack-hmt-criminal-justice/.venv/lib/python3.9/site-packages (from cryptography>=2.1.4->azure-storage-blob) (1.17.1)\n",
      "Requirement already satisfied: pycparser in /Users/anastasiagordeeva/projects/hack-hmt-criminal-justice/.venv/lib/python3.9/site-packages (from cffi>=1.12->cryptography>=2.1.4->azure-storage-blob) (2.22)\n",
      "Requirement already satisfied: charset-normalizer<4,>=2 in /Users/anastasiagordeeva/projects/hack-hmt-criminal-justice/.venv/lib/python3.9/site-packages (from requests>=2.21.0->azure-core>=1.30.0->azure-storage-blob) (3.4.1)\n",
      "Requirement already satisfied: certifi>=2017.4.17 in /Users/anastasiagordeeva/projects/hack-hmt-criminal-justice/.venv/lib/python3.9/site-packages (from requests>=2.21.0->azure-core>=1.30.0->azure-storage-blob) (2025.1.31)\n",
      "Requirement already satisfied: idna<4,>=2.5 in /Users/anastasiagordeeva/projects/hack-hmt-criminal-justice/.venv/lib/python3.9/site-packages (from requests>=2.21.0->azure-core>=1.30.0->azure-storage-blob) (3.10)\n",
      "Requirement already satisfied: urllib3<3,>=1.21.1 in /Users/anastasiagordeeva/projects/hack-hmt-criminal-justice/.venv/lib/python3.9/site-packages (from requests>=2.21.0->azure-core>=1.30.0->azure-storage-blob) (2.3.0)\n",
      "Installing collected packages: azure-storage-blob\n",
      "Successfully installed azure-storage-blob-12.24.1\n",
      "\u001b[33mWARNING: You are using pip version 21.2.4; however, version 25.0 is available.\n",
      "You should consider upgrading via the '/Users/anastasiagordeeva/projects/hack-hmt-criminal-justice/.venv/bin/python -m pip install --upgrade pip' command.\u001b[0m\n",
      "Note: you may need to restart the kernel to use updated packages.\n"
     ]
    }
   ],
   "source": [
    "%pip install azure-storage-blob"
   ]
  },
  {
   "cell_type": "code",
   "execution_count": 3,
   "metadata": {},
   "outputs": [
    {
     "name": "stdout",
     "output_type": "stream",
     "text": [
      "Requirement already satisfied: azure-mgmt-storage in /Users/anastasiagordeeva/projects/hack-hmt-criminal-justice/.venv/lib/python3.9/site-packages (21.2.0)\n",
      "Requirement already satisfied: azure-common>=1.1 in /Users/anastasiagordeeva/projects/hack-hmt-criminal-justice/.venv/lib/python3.9/site-packages (from azure-mgmt-storage) (1.1.28)\n",
      "Requirement already satisfied: isodate>=0.6.1 in /Users/anastasiagordeeva/projects/hack-hmt-criminal-justice/.venv/lib/python3.9/site-packages (from azure-mgmt-storage) (0.7.2)\n",
      "Requirement already satisfied: azure-mgmt-core>=1.3.2 in /Users/anastasiagordeeva/projects/hack-hmt-criminal-justice/.venv/lib/python3.9/site-packages (from azure-mgmt-storage) (1.5.0)\n",
      "Requirement already satisfied: azure-core>=1.31.0 in /Users/anastasiagordeeva/projects/hack-hmt-criminal-justice/.venv/lib/python3.9/site-packages (from azure-mgmt-core>=1.3.2->azure-mgmt-storage) (1.32.0)\n",
      "Requirement already satisfied: typing-extensions>=4.6.0 in /Users/anastasiagordeeva/projects/hack-hmt-criminal-justice/.venv/lib/python3.9/site-packages (from azure-core>=1.31.0->azure-mgmt-core>=1.3.2->azure-mgmt-storage) (4.12.2)\n",
      "Requirement already satisfied: six>=1.11.0 in /Users/anastasiagordeeva/projects/hack-hmt-criminal-justice/.venv/lib/python3.9/site-packages (from azure-core>=1.31.0->azure-mgmt-core>=1.3.2->azure-mgmt-storage) (1.17.0)\n",
      "Requirement already satisfied: requests>=2.21.0 in /Users/anastasiagordeeva/projects/hack-hmt-criminal-justice/.venv/lib/python3.9/site-packages (from azure-core>=1.31.0->azure-mgmt-core>=1.3.2->azure-mgmt-storage) (2.32.3)\n",
      "Requirement already satisfied: urllib3<3,>=1.21.1 in /Users/anastasiagordeeva/projects/hack-hmt-criminal-justice/.venv/lib/python3.9/site-packages (from requests>=2.21.0->azure-core>=1.31.0->azure-mgmt-core>=1.3.2->azure-mgmt-storage) (2.3.0)\n",
      "Requirement already satisfied: idna<4,>=2.5 in /Users/anastasiagordeeva/projects/hack-hmt-criminal-justice/.venv/lib/python3.9/site-packages (from requests>=2.21.0->azure-core>=1.31.0->azure-mgmt-core>=1.3.2->azure-mgmt-storage) (3.10)\n",
      "Requirement already satisfied: charset-normalizer<4,>=2 in /Users/anastasiagordeeva/projects/hack-hmt-criminal-justice/.venv/lib/python3.9/site-packages (from requests>=2.21.0->azure-core>=1.31.0->azure-mgmt-core>=1.3.2->azure-mgmt-storage) (3.4.1)\n",
      "Requirement already satisfied: certifi>=2017.4.17 in /Users/anastasiagordeeva/projects/hack-hmt-criminal-justice/.venv/lib/python3.9/site-packages (from requests>=2.21.0->azure-core>=1.31.0->azure-mgmt-core>=1.3.2->azure-mgmt-storage) (2025.1.31)\n",
      "\u001b[33mWARNING: You are using pip version 21.2.4; however, version 25.0 is available.\n",
      "You should consider upgrading via the '/Users/anastasiagordeeva/projects/hack-hmt-criminal-justice/.venv/bin/python -m pip install --upgrade pip' command.\u001b[0m\n",
      "Note: you may need to restart the kernel to use updated packages.\n",
      "Requirement already satisfied: azure-identity in /Users/anastasiagordeeva/projects/hack-hmt-criminal-justice/.venv/lib/python3.9/site-packages (1.19.0)\n",
      "Requirement already satisfied: msal-extensions>=1.2.0 in /Users/anastasiagordeeva/projects/hack-hmt-criminal-justice/.venv/lib/python3.9/site-packages (from azure-identity) (1.2.0)\n",
      "Requirement already satisfied: msal>=1.30.0 in /Users/anastasiagordeeva/projects/hack-hmt-criminal-justice/.venv/lib/python3.9/site-packages (from azure-identity) (1.31.1)\n",
      "Requirement already satisfied: cryptography>=2.5 in /Users/anastasiagordeeva/projects/hack-hmt-criminal-justice/.venv/lib/python3.9/site-packages (from azure-identity) (44.0.0)\n",
      "Requirement already satisfied: azure-core>=1.31.0 in /Users/anastasiagordeeva/projects/hack-hmt-criminal-justice/.venv/lib/python3.9/site-packages (from azure-identity) (1.32.0)\n",
      "Requirement already satisfied: typing-extensions>=4.0.0 in /Users/anastasiagordeeva/projects/hack-hmt-criminal-justice/.venv/lib/python3.9/site-packages (from azure-identity) (4.12.2)\n",
      "Requirement already satisfied: requests>=2.21.0 in /Users/anastasiagordeeva/projects/hack-hmt-criminal-justice/.venv/lib/python3.9/site-packages (from azure-core>=1.31.0->azure-identity) (2.32.3)\n",
      "Requirement already satisfied: six>=1.11.0 in /Users/anastasiagordeeva/projects/hack-hmt-criminal-justice/.venv/lib/python3.9/site-packages (from azure-core>=1.31.0->azure-identity) (1.17.0)\n",
      "Requirement already satisfied: cffi>=1.12 in /Users/anastasiagordeeva/projects/hack-hmt-criminal-justice/.venv/lib/python3.9/site-packages (from cryptography>=2.5->azure-identity) (1.17.1)\n",
      "Requirement already satisfied: pycparser in /Users/anastasiagordeeva/projects/hack-hmt-criminal-justice/.venv/lib/python3.9/site-packages (from cffi>=1.12->cryptography>=2.5->azure-identity) (2.22)\n",
      "Requirement already satisfied: PyJWT[crypto]<3,>=1.0.0 in /Users/anastasiagordeeva/projects/hack-hmt-criminal-justice/.venv/lib/python3.9/site-packages (from msal>=1.30.0->azure-identity) (2.10.1)\n",
      "Requirement already satisfied: portalocker<3,>=1.4 in /Users/anastasiagordeeva/projects/hack-hmt-criminal-justice/.venv/lib/python3.9/site-packages (from msal-extensions>=1.2.0->azure-identity) (2.10.1)\n",
      "Requirement already satisfied: urllib3<3,>=1.21.1 in /Users/anastasiagordeeva/projects/hack-hmt-criminal-justice/.venv/lib/python3.9/site-packages (from requests>=2.21.0->azure-core>=1.31.0->azure-identity) (2.3.0)\n",
      "Requirement already satisfied: charset-normalizer<4,>=2 in /Users/anastasiagordeeva/projects/hack-hmt-criminal-justice/.venv/lib/python3.9/site-packages (from requests>=2.21.0->azure-core>=1.31.0->azure-identity) (3.4.1)\n",
      "Requirement already satisfied: idna<4,>=2.5 in /Users/anastasiagordeeva/projects/hack-hmt-criminal-justice/.venv/lib/python3.9/site-packages (from requests>=2.21.0->azure-core>=1.31.0->azure-identity) (3.10)\n",
      "Requirement already satisfied: certifi>=2017.4.17 in /Users/anastasiagordeeva/projects/hack-hmt-criminal-justice/.venv/lib/python3.9/site-packages (from requests>=2.21.0->azure-core>=1.31.0->azure-identity) (2025.1.31)\n",
      "\u001b[33mWARNING: You are using pip version 21.2.4; however, version 25.0 is available.\n",
      "You should consider upgrading via the '/Users/anastasiagordeeva/projects/hack-hmt-criminal-justice/.venv/bin/python -m pip install --upgrade pip' command.\u001b[0m\n",
      "Note: you may need to restart the kernel to use updated packages.\n",
      "Requirement already satisfied: azure-storage-file-share in /Users/anastasiagordeeva/projects/hack-hmt-criminal-justice/.venv/lib/python3.9/site-packages (12.20.1)\n",
      "Requirement already satisfied: cryptography>=2.1.4 in /Users/anastasiagordeeva/projects/hack-hmt-criminal-justice/.venv/lib/python3.9/site-packages (from azure-storage-file-share) (44.0.0)\n",
      "Requirement already satisfied: isodate>=0.6.1 in /Users/anastasiagordeeva/projects/hack-hmt-criminal-justice/.venv/lib/python3.9/site-packages (from azure-storage-file-share) (0.7.2)\n",
      "Requirement already satisfied: azure-core>=1.30.0 in /Users/anastasiagordeeva/projects/hack-hmt-criminal-justice/.venv/lib/python3.9/site-packages (from azure-storage-file-share) (1.32.0)\n",
      "Requirement already satisfied: typing-extensions>=4.6.0 in /Users/anastasiagordeeva/projects/hack-hmt-criminal-justice/.venv/lib/python3.9/site-packages (from azure-storage-file-share) (4.12.2)\n",
      "Requirement already satisfied: requests>=2.21.0 in /Users/anastasiagordeeva/projects/hack-hmt-criminal-justice/.venv/lib/python3.9/site-packages (from azure-core>=1.30.0->azure-storage-file-share) (2.32.3)\n",
      "Requirement already satisfied: six>=1.11.0 in /Users/anastasiagordeeva/projects/hack-hmt-criminal-justice/.venv/lib/python3.9/site-packages (from azure-core>=1.30.0->azure-storage-file-share) (1.17.0)\n",
      "Requirement already satisfied: cffi>=1.12 in /Users/anastasiagordeeva/projects/hack-hmt-criminal-justice/.venv/lib/python3.9/site-packages (from cryptography>=2.1.4->azure-storage-file-share) (1.17.1)\n",
      "Requirement already satisfied: pycparser in /Users/anastasiagordeeva/projects/hack-hmt-criminal-justice/.venv/lib/python3.9/site-packages (from cffi>=1.12->cryptography>=2.1.4->azure-storage-file-share) (2.22)\n",
      "Requirement already satisfied: idna<4,>=2.5 in /Users/anastasiagordeeva/projects/hack-hmt-criminal-justice/.venv/lib/python3.9/site-packages (from requests>=2.21.0->azure-core>=1.30.0->azure-storage-file-share) (3.10)\n",
      "Requirement already satisfied: certifi>=2017.4.17 in /Users/anastasiagordeeva/projects/hack-hmt-criminal-justice/.venv/lib/python3.9/site-packages (from requests>=2.21.0->azure-core>=1.30.0->azure-storage-file-share) (2025.1.31)\n",
      "Requirement already satisfied: charset-normalizer<4,>=2 in /Users/anastasiagordeeva/projects/hack-hmt-criminal-justice/.venv/lib/python3.9/site-packages (from requests>=2.21.0->azure-core>=1.30.0->azure-storage-file-share) (3.4.1)\n",
      "Requirement already satisfied: urllib3<3,>=1.21.1 in /Users/anastasiagordeeva/projects/hack-hmt-criminal-justice/.venv/lib/python3.9/site-packages (from requests>=2.21.0->azure-core>=1.30.0->azure-storage-file-share) (2.3.0)\n",
      "\u001b[33mWARNING: You are using pip version 21.2.4; however, version 25.0 is available.\n",
      "You should consider upgrading via the '/Users/anastasiagordeeva/projects/hack-hmt-criminal-justice/.venv/bin/python -m pip install --upgrade pip' command.\u001b[0m\n",
      "Note: you may need to restart the kernel to use updated packages.\n",
      "Requirement already satisfied: python-dotenv in /Users/anastasiagordeeva/projects/hack-hmt-criminal-justice/.venv/lib/python3.9/site-packages (1.0.1)\n",
      "\u001b[33mWARNING: You are using pip version 21.2.4; however, version 25.0 is available.\n",
      "You should consider upgrading via the '/Users/anastasiagordeeva/projects/hack-hmt-criminal-justice/.venv/bin/python -m pip install --upgrade pip' command.\u001b[0m\n",
      "Note: you may need to restart the kernel to use updated packages.\n"
     ]
    }
   ],
   "source": [
    "%pip install azure-mgmt-storage\n",
    "%pip install azure-identity\n",
    "%pip install azure-storage-file-share\n",
    "%pip install python-dotenv\n"
   ]
  },
  {
   "cell_type": "code",
   "execution_count": 4,
   "metadata": {},
   "outputs": [
    {
     "data": {
      "text/plain": [
       "True"
      ]
     },
     "execution_count": 4,
     "metadata": {},
     "output_type": "execute_result"
    }
   ],
   "source": [
    "import os\n",
    "import sys\n",
    "from dotenv import load_dotenv\n",
    "load_dotenv()"
   ]
  },
  {
   "cell_type": "code",
   "execution_count": 8,
   "metadata": {},
   "outputs": [
    {
     "name": "stdout",
     "output_type": "stream",
     "text": [
      "Additional features/GDP_growth_quarter.xls\n",
      "Additional features/inflation_annual.xls\n",
      "Additional features/inflation_quarter.xls\n",
      "Additional features/unemployment_annual.xls\n",
      "Additional features/unemployment_quarter.xls\n",
      "CJS_overview/cjs-overview-tables-June-2024.ods\n",
      "cps/CPS Caseload/CPS-Court-Caseload-Tables-Q2-24-25.xlsx\n",
      "cps/CPS Caseload/CPS-Court-Caseload-Tables-Q3-23-24.xlsx\n",
      "cps/Pre-Charge Data/Pre-Charge Data Tables Year Ending December 2020_0.xlsx\n",
      "cps/Pre-Charge Data/Pre-Charge-Data-Tables-Q2-24-25.xlsx\n",
      "cps/Pre-Charge Data/Pre-Charge-Data-Tables-Year-Ending-Dec-2022.xlsx\n",
      "cps/Pre-Charge Data/Pre-Charge-Data-Tables-Year-Ending-December-2019.xlsx\n",
      "cps/Pre-Charge Data/Pre-Charge-Data-Tables-Year-Ending-December-2021.xlsx\n",
      "cps/Pre-Charge Data/Pre-Charge-Quarterly-Reports-Q3-23-24-updated-Sept-24.xlsx\n",
      "cps/Prosecution tables/Prosecution Data Tables Year Ending December 2020.xlsx\n",
      "cps/Prosecution tables/Prosecution-Data-Tables-Q2-24-25.xlsx\n",
      "cps/Prosecution tables/Prosecution-Data-Tables-Q3-23-24.xlsx\n",
      "cps/Prosecution tables/Prosecution-Data-Tables-Year-Ending-Dec-2022.xlsx\n",
      "cps/Prosecution tables/Prosecution-Data-Tables-Year-Ending-December-19_0.xlsx\n",
      "cps/Prosecution tables/Prosecution-Data-Tables-Year-Ending-December-2021.xlsx\n",
      "prison/population/Population_30June2020.ods\n",
      "prison/population/Population_30June2021_quarterly.ods\n",
      "prison/population/Population_30Sep2020.ods\n",
      "prison/population/Population_30Sep2021.ods\n",
      "prison/population/Population_31Dec2019.xlsx\n",
      "prison/population/Population_31Dec2020.ods\n",
      "prison/population/Population_31March2020.ods\n",
      "prison/population/Population_31_March_2021.ods\n",
      "prison/population/Population_Q2_2019.xlsx\n",
      "prison/population/population-30June2019-quarterly.ods\n",
      "prison/population/population-31-december-18-quarterly.ods\n",
      "prison/population/population-31-march-2019.ods\n",
      "prison/receptions/Receptions_Q1_2020.ods\n",
      "prison/receptions/Receptions_Q1_2021.ods\n",
      "prison/receptions/Receptions_Q2_2019.xlsx\n",
      "prison/receptions/Receptions_Q2_2020.ods\n",
      "prison/receptions/Receptions_Q2_2021.ods\n",
      "prison/receptions/Receptions_Q3_2019.xlsx\n",
      "prison/receptions/Receptions_Q3_2020.ods\n",
      "prison/receptions/Receptions_Q42019.ods\n",
      "prison/receptions/Receptions_Q4_2020.ods\n",
      "prison/receptions/reception-q3-2018.ods\n",
      "prison/receptions/receptions-q1-2019.ods\n",
      "prison/receptions/receptions-q4-2018.ods\n",
      "prison/releases/Releases_Q1_2020.ods\n",
      "prison/releases/Releases_Q1_2021.ods\n",
      "prison/releases/Releases_Q2_2019.xlsx\n",
      "prison/releases/Releases_Q2_2020.ods\n",
      "prison/releases/Releases_Q2_2021.ods\n",
      "prison/releases/Releases_Q3_2019.xlsx\n",
      "prison/releases/Releases_Q3_2020_Final.ods\n",
      "prison/releases/Releases_Q42019.ods\n",
      "prison/releases/Releases_Q4_2020.ods\n",
      "prison/releases/releases-q1-2019.ods\n",
      "prison/releases/releases-q3-2018.ods\n",
      "prison/releases/releases-q42018.ods\n"
     ]
    }
   ],
   "source": [
    "file_registry = []\n",
    "from azure.storage.blob import BlobServiceClient\n",
    "\n",
    "# Replace with your actual values\n",
    "account_url = \"https://cjldndatalake.blob.core.windows.net\"  # Example: https://myaccount.blob.core.windows.net\n",
    "container_name = \"bronze\"  # Name of the container\n",
    "account_key = os.environ['AZURE_STORAGE_ACC_KEY']  # Your Storage Account Key\n",
    "\n",
    "# Create a BlobServiceClient to interact with the storage account\n",
    "blob_service_client = BlobServiceClient(account_url=account_url, credential=account_key)\n",
    "\n",
    "# Get the container client for the specified container\n",
    "container_client = blob_service_client.get_container_client(container_name)\n",
    "\n",
    "# List all the blobs (files) in the container\n",
    "blob_list = container_client.list_blobs()\n",
    "\n",
    "# Print the blob names\n",
    "for blob in blob_list:\n",
    "    blob_name = blob.name\n",
    "    blob_id = blob.etag\n",
    "    blob_size = blob.size\n",
    "    blob_client = blob_service_client.get_blob_client(container=container_name, blob=blob_name)\n",
    "    blob_filename = blob_name.split('/')[-1]\n",
    "    download_file_path = f'../data/{blob_filename}'\n",
    "    with open(download_file_path, \"wb\") as file:\n",
    "        download_stream = blob_client.download_blob()\n",
    "        for chunk in download_stream.chunks():\n",
    "            file.write(chunk)\n",
    "\n",
    "    file_registry.append({\n",
    "        'file_name': blob_name,\n",
    "        'file_id': blob_id,\n",
    "        'file_size': blob_size,\n",
    "        'file_path': download_file_path,\n",
    "\n",
    "    })\n",
    "    print(blob.name)"
   ]
  },
  {
   "cell_type": "code",
   "execution_count": null,
   "metadata": {
    "vscode": {
     "languageId": "ruby"
    }
   },
   "outputs": [],
   "source": []
  },
  {
   "cell_type": "code",
   "execution_count": null,
   "metadata": {
    "vscode": {
     "languageId": "ruby"
    }
   },
   "outputs": [],
   "source": []
  },
  {
   "cell_type": "code",
   "execution_count": null,
   "metadata": {
    "vscode": {
     "languageId": "ruby"
    }
   },
   "outputs": [],
   "source": []
  },
  {
   "cell_type": "code",
   "execution_count": null,
   "metadata": {
    "vscode": {
     "languageId": "ruby"
    }
   },
   "outputs": [],
   "source": []
  },
  {
   "cell_type": "code",
   "execution_count": null,
   "metadata": {
    "vscode": {
     "languageId": "ruby"
    }
   },
   "outputs": [],
   "source": []
  },
  {
   "cell_type": "code",
   "execution_count": null,
   "metadata": {
    "vscode": {
     "languageId": "ruby"
    }
   },
   "outputs": [],
   "source": []
  },
  {
   "cell_type": "code",
   "execution_count": null,
   "metadata": {
    "vscode": {
     "languageId": "ruby"
    }
   },
   "outputs": [],
   "source": []
  }
 ],
 "metadata": {
  "kernelspec": {
   "display_name": ".venv",
   "language": "python",
   "name": "python3"
  },
  "language_info": {
   "codemirror_mode": {
    "name": "ipython",
    "version": 3
   },
   "file_extension": ".py",
   "mimetype": "text/x-python",
   "name": "python",
   "nbconvert_exporter": "python",
   "pygments_lexer": "ipython3",
   "version": "3.9.6"
  }
 },
 "nbformat": 4,
 "nbformat_minor": 2
}
