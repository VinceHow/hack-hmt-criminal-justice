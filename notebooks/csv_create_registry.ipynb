{
 "cells": [
  {
   "cell_type": "code",
   "execution_count": 2,
   "metadata": {},
   "outputs": [
    {
     "name": "stdout",
     "output_type": "stream",
     "text": [
      "Collecting azure-storage-blob\n",
      "  Downloading azure_storage_blob-12.24.1-py3-none-any.whl (408 kB)\n",
      "\u001b[K     |████████████████████████████████| 408 kB 1.1 MB/s eta 0:00:01\n",
      "\u001b[?25hRequirement already satisfied: isodate>=0.6.1 in /Users/anastasiagordeeva/projects/hack-hmt-criminal-justice/.venv/lib/python3.9/site-packages (from azure-storage-blob) (0.7.2)\n",
      "Requirement already satisfied: azure-core>=1.30.0 in /Users/anastasiagordeeva/projects/hack-hmt-criminal-justice/.venv/lib/python3.9/site-packages (from azure-storage-blob) (1.32.0)\n",
      "Requirement already satisfied: typing-extensions>=4.6.0 in /Users/anastasiagordeeva/projects/hack-hmt-criminal-justice/.venv/lib/python3.9/site-packages (from azure-storage-blob) (4.12.2)\n",
      "Requirement already satisfied: cryptography>=2.1.4 in /Users/anastasiagordeeva/projects/hack-hmt-criminal-justice/.venv/lib/python3.9/site-packages (from azure-storage-blob) (44.0.0)\n",
      "Requirement already satisfied: requests>=2.21.0 in /Users/anastasiagordeeva/projects/hack-hmt-criminal-justice/.venv/lib/python3.9/site-packages (from azure-core>=1.30.0->azure-storage-blob) (2.32.3)\n",
      "Requirement already satisfied: six>=1.11.0 in /Users/anastasiagordeeva/projects/hack-hmt-criminal-justice/.venv/lib/python3.9/site-packages (from azure-core>=1.30.0->azure-storage-blob) (1.17.0)\n",
      "Requirement already satisfied: cffi>=1.12 in /Users/anastasiagordeeva/projects/hack-hmt-criminal-justice/.venv/lib/python3.9/site-packages (from cryptography>=2.1.4->azure-storage-blob) (1.17.1)\n",
      "Requirement already satisfied: pycparser in /Users/anastasiagordeeva/projects/hack-hmt-criminal-justice/.venv/lib/python3.9/site-packages (from cffi>=1.12->cryptography>=2.1.4->azure-storage-blob) (2.22)\n",
      "Requirement already satisfied: charset-normalizer<4,>=2 in /Users/anastasiagordeeva/projects/hack-hmt-criminal-justice/.venv/lib/python3.9/site-packages (from requests>=2.21.0->azure-core>=1.30.0->azure-storage-blob) (3.4.1)\n",
      "Requirement already satisfied: certifi>=2017.4.17 in /Users/anastasiagordeeva/projects/hack-hmt-criminal-justice/.venv/lib/python3.9/site-packages (from requests>=2.21.0->azure-core>=1.30.0->azure-storage-blob) (2025.1.31)\n",
      "Requirement already satisfied: idna<4,>=2.5 in /Users/anastasiagordeeva/projects/hack-hmt-criminal-justice/.venv/lib/python3.9/site-packages (from requests>=2.21.0->azure-core>=1.30.0->azure-storage-blob) (3.10)\n",
      "Requirement already satisfied: urllib3<3,>=1.21.1 in /Users/anastasiagordeeva/projects/hack-hmt-criminal-justice/.venv/lib/python3.9/site-packages (from requests>=2.21.0->azure-core>=1.30.0->azure-storage-blob) (2.3.0)\n",
      "Installing collected packages: azure-storage-blob\n",
      "Successfully installed azure-storage-blob-12.24.1\n",
      "\u001b[33mWARNING: You are using pip version 21.2.4; however, version 25.0 is available.\n",
      "You should consider upgrading via the '/Users/anastasiagordeeva/projects/hack-hmt-criminal-justice/.venv/bin/python -m pip install --upgrade pip' command.\u001b[0m\n",
      "Note: you may need to restart the kernel to use updated packages.\n"
     ]
    }
   ],
   "source": [
    "%pip install azure-storage-blob"
   ]
  },
  {
   "cell_type": "code",
   "execution_count": 3,
   "metadata": {},
   "outputs": [
    {
     "name": "stdout",
     "output_type": "stream",
     "text": [
      "Requirement already satisfied: azure-mgmt-storage in /Users/anastasiagordeeva/projects/hack-hmt-criminal-justice/.venv/lib/python3.9/site-packages (21.2.0)\n",
      "Requirement already satisfied: azure-common>=1.1 in /Users/anastasiagordeeva/projects/hack-hmt-criminal-justice/.venv/lib/python3.9/site-packages (from azure-mgmt-storage) (1.1.28)\n",
      "Requirement already satisfied: isodate>=0.6.1 in /Users/anastasiagordeeva/projects/hack-hmt-criminal-justice/.venv/lib/python3.9/site-packages (from azure-mgmt-storage) (0.7.2)\n",
      "Requirement already satisfied: azure-mgmt-core>=1.3.2 in /Users/anastasiagordeeva/projects/hack-hmt-criminal-justice/.venv/lib/python3.9/site-packages (from azure-mgmt-storage) (1.5.0)\n",
      "Requirement already satisfied: azure-core>=1.31.0 in /Users/anastasiagordeeva/projects/hack-hmt-criminal-justice/.venv/lib/python3.9/site-packages (from azure-mgmt-core>=1.3.2->azure-mgmt-storage) (1.32.0)\n",
      "Requirement already satisfied: typing-extensions>=4.6.0 in /Users/anastasiagordeeva/projects/hack-hmt-criminal-justice/.venv/lib/python3.9/site-packages (from azure-core>=1.31.0->azure-mgmt-core>=1.3.2->azure-mgmt-storage) (4.12.2)\n",
      "Requirement already satisfied: six>=1.11.0 in /Users/anastasiagordeeva/projects/hack-hmt-criminal-justice/.venv/lib/python3.9/site-packages (from azure-core>=1.31.0->azure-mgmt-core>=1.3.2->azure-mgmt-storage) (1.17.0)\n",
      "Requirement already satisfied: requests>=2.21.0 in /Users/anastasiagordeeva/projects/hack-hmt-criminal-justice/.venv/lib/python3.9/site-packages (from azure-core>=1.31.0->azure-mgmt-core>=1.3.2->azure-mgmt-storage) (2.32.3)\n",
      "Requirement already satisfied: urllib3<3,>=1.21.1 in /Users/anastasiagordeeva/projects/hack-hmt-criminal-justice/.venv/lib/python3.9/site-packages (from requests>=2.21.0->azure-core>=1.31.0->azure-mgmt-core>=1.3.2->azure-mgmt-storage) (2.3.0)\n",
      "Requirement already satisfied: idna<4,>=2.5 in /Users/anastasiagordeeva/projects/hack-hmt-criminal-justice/.venv/lib/python3.9/site-packages (from requests>=2.21.0->azure-core>=1.31.0->azure-mgmt-core>=1.3.2->azure-mgmt-storage) (3.10)\n",
      "Requirement already satisfied: charset-normalizer<4,>=2 in /Users/anastasiagordeeva/projects/hack-hmt-criminal-justice/.venv/lib/python3.9/site-packages (from requests>=2.21.0->azure-core>=1.31.0->azure-mgmt-core>=1.3.2->azure-mgmt-storage) (3.4.1)\n",
      "Requirement already satisfied: certifi>=2017.4.17 in /Users/anastasiagordeeva/projects/hack-hmt-criminal-justice/.venv/lib/python3.9/site-packages (from requests>=2.21.0->azure-core>=1.31.0->azure-mgmt-core>=1.3.2->azure-mgmt-storage) (2025.1.31)\n",
      "\u001b[33mWARNING: You are using pip version 21.2.4; however, version 25.0 is available.\n",
      "You should consider upgrading via the '/Users/anastasiagordeeva/projects/hack-hmt-criminal-justice/.venv/bin/python -m pip install --upgrade pip' command.\u001b[0m\n",
      "Note: you may need to restart the kernel to use updated packages.\n",
      "Requirement already satisfied: azure-identity in /Users/anastasiagordeeva/projects/hack-hmt-criminal-justice/.venv/lib/python3.9/site-packages (1.19.0)\n",
      "Requirement already satisfied: msal-extensions>=1.2.0 in /Users/anastasiagordeeva/projects/hack-hmt-criminal-justice/.venv/lib/python3.9/site-packages (from azure-identity) (1.2.0)\n",
      "Requirement already satisfied: msal>=1.30.0 in /Users/anastasiagordeeva/projects/hack-hmt-criminal-justice/.venv/lib/python3.9/site-packages (from azure-identity) (1.31.1)\n",
      "Requirement already satisfied: cryptography>=2.5 in /Users/anastasiagordeeva/projects/hack-hmt-criminal-justice/.venv/lib/python3.9/site-packages (from azure-identity) (44.0.0)\n",
      "Requirement already satisfied: azure-core>=1.31.0 in /Users/anastasiagordeeva/projects/hack-hmt-criminal-justice/.venv/lib/python3.9/site-packages (from azure-identity) (1.32.0)\n",
      "Requirement already satisfied: typing-extensions>=4.0.0 in /Users/anastasiagordeeva/projects/hack-hmt-criminal-justice/.venv/lib/python3.9/site-packages (from azure-identity) (4.12.2)\n",
      "Requirement already satisfied: requests>=2.21.0 in /Users/anastasiagordeeva/projects/hack-hmt-criminal-justice/.venv/lib/python3.9/site-packages (from azure-core>=1.31.0->azure-identity) (2.32.3)\n",
      "Requirement already satisfied: six>=1.11.0 in /Users/anastasiagordeeva/projects/hack-hmt-criminal-justice/.venv/lib/python3.9/site-packages (from azure-core>=1.31.0->azure-identity) (1.17.0)\n",
      "Requirement already satisfied: cffi>=1.12 in /Users/anastasiagordeeva/projects/hack-hmt-criminal-justice/.venv/lib/python3.9/site-packages (from cryptography>=2.5->azure-identity) (1.17.1)\n",
      "Requirement already satisfied: pycparser in /Users/anastasiagordeeva/projects/hack-hmt-criminal-justice/.venv/lib/python3.9/site-packages (from cffi>=1.12->cryptography>=2.5->azure-identity) (2.22)\n",
      "Requirement already satisfied: PyJWT[crypto]<3,>=1.0.0 in /Users/anastasiagordeeva/projects/hack-hmt-criminal-justice/.venv/lib/python3.9/site-packages (from msal>=1.30.0->azure-identity) (2.10.1)\n",
      "Requirement already satisfied: portalocker<3,>=1.4 in /Users/anastasiagordeeva/projects/hack-hmt-criminal-justice/.venv/lib/python3.9/site-packages (from msal-extensions>=1.2.0->azure-identity) (2.10.1)\n",
      "Requirement already satisfied: urllib3<3,>=1.21.1 in /Users/anastasiagordeeva/projects/hack-hmt-criminal-justice/.venv/lib/python3.9/site-packages (from requests>=2.21.0->azure-core>=1.31.0->azure-identity) (2.3.0)\n",
      "Requirement already satisfied: charset-normalizer<4,>=2 in /Users/anastasiagordeeva/projects/hack-hmt-criminal-justice/.venv/lib/python3.9/site-packages (from requests>=2.21.0->azure-core>=1.31.0->azure-identity) (3.4.1)\n",
      "Requirement already satisfied: idna<4,>=2.5 in /Users/anastasiagordeeva/projects/hack-hmt-criminal-justice/.venv/lib/python3.9/site-packages (from requests>=2.21.0->azure-core>=1.31.0->azure-identity) (3.10)\n",
      "Requirement already satisfied: certifi>=2017.4.17 in /Users/anastasiagordeeva/projects/hack-hmt-criminal-justice/.venv/lib/python3.9/site-packages (from requests>=2.21.0->azure-core>=1.31.0->azure-identity) (2025.1.31)\n",
      "\u001b[33mWARNING: You are using pip version 21.2.4; however, version 25.0 is available.\n",
      "You should consider upgrading via the '/Users/anastasiagordeeva/projects/hack-hmt-criminal-justice/.venv/bin/python -m pip install --upgrade pip' command.\u001b[0m\n",
      "Note: you may need to restart the kernel to use updated packages.\n",
      "Requirement already satisfied: azure-storage-file-share in /Users/anastasiagordeeva/projects/hack-hmt-criminal-justice/.venv/lib/python3.9/site-packages (12.20.1)\n",
      "Requirement already satisfied: cryptography>=2.1.4 in /Users/anastasiagordeeva/projects/hack-hmt-criminal-justice/.venv/lib/python3.9/site-packages (from azure-storage-file-share) (44.0.0)\n",
      "Requirement already satisfied: isodate>=0.6.1 in /Users/anastasiagordeeva/projects/hack-hmt-criminal-justice/.venv/lib/python3.9/site-packages (from azure-storage-file-share) (0.7.2)\n",
      "Requirement already satisfied: azure-core>=1.30.0 in /Users/anastasiagordeeva/projects/hack-hmt-criminal-justice/.venv/lib/python3.9/site-packages (from azure-storage-file-share) (1.32.0)\n",
      "Requirement already satisfied: typing-extensions>=4.6.0 in /Users/anastasiagordeeva/projects/hack-hmt-criminal-justice/.venv/lib/python3.9/site-packages (from azure-storage-file-share) (4.12.2)\n",
      "Requirement already satisfied: requests>=2.21.0 in /Users/anastasiagordeeva/projects/hack-hmt-criminal-justice/.venv/lib/python3.9/site-packages (from azure-core>=1.30.0->azure-storage-file-share) (2.32.3)\n",
      "Requirement already satisfied: six>=1.11.0 in /Users/anastasiagordeeva/projects/hack-hmt-criminal-justice/.venv/lib/python3.9/site-packages (from azure-core>=1.30.0->azure-storage-file-share) (1.17.0)\n",
      "Requirement already satisfied: cffi>=1.12 in /Users/anastasiagordeeva/projects/hack-hmt-criminal-justice/.venv/lib/python3.9/site-packages (from cryptography>=2.1.4->azure-storage-file-share) (1.17.1)\n",
      "Requirement already satisfied: pycparser in /Users/anastasiagordeeva/projects/hack-hmt-criminal-justice/.venv/lib/python3.9/site-packages (from cffi>=1.12->cryptography>=2.1.4->azure-storage-file-share) (2.22)\n",
      "Requirement already satisfied: idna<4,>=2.5 in /Users/anastasiagordeeva/projects/hack-hmt-criminal-justice/.venv/lib/python3.9/site-packages (from requests>=2.21.0->azure-core>=1.30.0->azure-storage-file-share) (3.10)\n",
      "Requirement already satisfied: certifi>=2017.4.17 in /Users/anastasiagordeeva/projects/hack-hmt-criminal-justice/.venv/lib/python3.9/site-packages (from requests>=2.21.0->azure-core>=1.30.0->azure-storage-file-share) (2025.1.31)\n",
      "Requirement already satisfied: charset-normalizer<4,>=2 in /Users/anastasiagordeeva/projects/hack-hmt-criminal-justice/.venv/lib/python3.9/site-packages (from requests>=2.21.0->azure-core>=1.30.0->azure-storage-file-share) (3.4.1)\n",
      "Requirement already satisfied: urllib3<3,>=1.21.1 in /Users/anastasiagordeeva/projects/hack-hmt-criminal-justice/.venv/lib/python3.9/site-packages (from requests>=2.21.0->azure-core>=1.30.0->azure-storage-file-share) (2.3.0)\n",
      "\u001b[33mWARNING: You are using pip version 21.2.4; however, version 25.0 is available.\n",
      "You should consider upgrading via the '/Users/anastasiagordeeva/projects/hack-hmt-criminal-justice/.venv/bin/python -m pip install --upgrade pip' command.\u001b[0m\n",
      "Note: you may need to restart the kernel to use updated packages.\n",
      "Requirement already satisfied: python-dotenv in /Users/anastasiagordeeva/projects/hack-hmt-criminal-justice/.venv/lib/python3.9/site-packages (1.0.1)\n",
      "\u001b[33mWARNING: You are using pip version 21.2.4; however, version 25.0 is available.\n",
      "You should consider upgrading via the '/Users/anastasiagordeeva/projects/hack-hmt-criminal-justice/.venv/bin/python -m pip install --upgrade pip' command.\u001b[0m\n",
      "Note: you may need to restart the kernel to use updated packages.\n"
     ]
    }
   ],
   "source": [
    "%pip install azure-mgmt-storage\n",
    "%pip install azure-identity\n",
    "%pip install azure-storage-file-share\n",
    "%pip install python-dotenv\n"
   ]
  },
  {
   "cell_type": "code",
   "execution_count": 4,
   "metadata": {},
   "outputs": [
    {
     "data": {
      "text/plain": [
       "True"
      ]
     },
     "execution_count": 4,
     "metadata": {},
     "output_type": "execute_result"
    }
   ],
   "source": [
    "import os\n",
    "import sys\n",
    "from dotenv import load_dotenv\n",
    "load_dotenv()"
   ]
  },
  {
   "cell_type": "code",
   "execution_count": 8,
   "metadata": {},
   "outputs": [
    {
     "name": "stdout",
     "output_type": "stream",
     "text": [
      "Additional features/GDP_growth_quarter.xls\n",
      "Additional features/inflation_annual.xls\n",
      "Additional features/inflation_quarter.xls\n",
      "Additional features/unemployment_annual.xls\n",
      "Additional features/unemployment_quarter.xls\n",
      "CJS_overview/cjs-overview-tables-June-2024.ods\n",
      "cps/CPS Caseload/CPS-Court-Caseload-Tables-Q2-24-25.xlsx\n",
      "cps/CPS Caseload/CPS-Court-Caseload-Tables-Q3-23-24.xlsx\n",
      "cps/Pre-Charge Data/Pre-Charge Data Tables Year Ending December 2020_0.xlsx\n",
      "cps/Pre-Charge Data/Pre-Charge-Data-Tables-Q2-24-25.xlsx\n",
      "cps/Pre-Charge Data/Pre-Charge-Data-Tables-Year-Ending-Dec-2022.xlsx\n",
      "cps/Pre-Charge Data/Pre-Charge-Data-Tables-Year-Ending-December-2019.xlsx\n",
      "cps/Pre-Charge Data/Pre-Charge-Data-Tables-Year-Ending-December-2021.xlsx\n",
      "cps/Pre-Charge Data/Pre-Charge-Quarterly-Reports-Q3-23-24-updated-Sept-24.xlsx\n",
      "cps/Prosecution tables/Prosecution Data Tables Year Ending December 2020.xlsx\n",
      "cps/Prosecution tables/Prosecution-Data-Tables-Q2-24-25.xlsx\n",
      "cps/Prosecution tables/Prosecution-Data-Tables-Q3-23-24.xlsx\n",
      "cps/Prosecution tables/Prosecution-Data-Tables-Year-Ending-Dec-2022.xlsx\n",
      "cps/Prosecution tables/Prosecution-Data-Tables-Year-Ending-December-19_0.xlsx\n",
      "cps/Prosecution tables/Prosecution-Data-Tables-Year-Ending-December-2021.xlsx\n",
      "prison/population/Population_30June2020.ods\n",
      "prison/population/Population_30June2021_quarterly.ods\n",
      "prison/population/Population_30Sep2020.ods\n",
      "prison/population/Population_30Sep2021.ods\n",
      "prison/population/Population_31Dec2019.xlsx\n",
      "prison/population/Population_31Dec2020.ods\n",
      "prison/population/Population_31March2020.ods\n",
      "prison/population/Population_31_March_2021.ods\n",
      "prison/population/Population_Q2_2019.xlsx\n",
      "prison/population/population-30June2019-quarterly.ods\n",
      "prison/population/population-31-december-18-quarterly.ods\n",
      "prison/population/population-31-march-2019.ods\n",
      "prison/receptions/Receptions_Q1_2020.ods\n",
      "prison/receptions/Receptions_Q1_2021.ods\n",
      "prison/receptions/Receptions_Q2_2019.xlsx\n",
      "prison/receptions/Receptions_Q2_2020.ods\n",
      "prison/receptions/Receptions_Q2_2021.ods\n",
      "prison/receptions/Receptions_Q3_2019.xlsx\n",
      "prison/receptions/Receptions_Q3_2020.ods\n",
      "prison/receptions/Receptions_Q42019.ods\n",
      "prison/receptions/Receptions_Q4_2020.ods\n",
      "prison/receptions/reception-q3-2018.ods\n",
      "prison/receptions/receptions-q1-2019.ods\n",
      "prison/receptions/receptions-q4-2018.ods\n",
      "prison/releases/Releases_Q1_2020.ods\n",
      "prison/releases/Releases_Q1_2021.ods\n",
      "prison/releases/Releases_Q2_2019.xlsx\n",
      "prison/releases/Releases_Q2_2020.ods\n",
      "prison/releases/Releases_Q2_2021.ods\n",
      "prison/releases/Releases_Q3_2019.xlsx\n",
      "prison/releases/Releases_Q3_2020_Final.ods\n",
      "prison/releases/Releases_Q42019.ods\n",
      "prison/releases/Releases_Q4_2020.ods\n",
      "prison/releases/releases-q1-2019.ods\n",
      "prison/releases/releases-q3-2018.ods\n",
      "prison/releases/releases-q42018.ods\n"
     ]
    }
   ],
   "source": [
    "file_registry = []\n",
    "from azure.storage.blob import BlobServiceClient\n",
    "\n",
    "# Replace with your actual values\n",
    "account_url = \"https://cjldndatalake.blob.core.windows.net\"  # Example: https://myaccount.blob.core.windows.net\n",
    "container_name = \"bronze\"  # Name of the container\n",
    "account_key = os.environ['AZURE_STORAGE_ACC_KEY']  # Your Storage Account Key\n",
    "\n",
    "# Create a BlobServiceClient to interact with the storage account\n",
    "blob_service_client = BlobServiceClient(account_url=account_url, credential=account_key)\n",
    "\n",
    "# Get the container client for the specified container\n",
    "container_client = blob_service_client.get_container_client(container_name)\n",
    "\n",
    "# List all the blobs (files) in the container\n",
    "blob_list = container_client.list_blobs()\n",
    "\n",
    "# Print the blob names\n",
    "for blob in blob_list:\n",
    "    blob_name = blob.name\n",
    "    blob_id = blob.etag\n",
    "    blob_size = blob.size\n",
    "    blob_client = blob_service_client.get_blob_client(container=container_name, blob=blob_name)\n",
    "    blob_filename = blob_name.split('/')[-1]\n",
    "    download_file_path = f'../data/{blob_filename}'\n",
    "    with open(download_file_path, \"wb\") as file:\n",
    "        download_stream = blob_client.download_blob()\n",
    "        for chunk in download_stream.chunks():\n",
    "            file.write(chunk)\n",
    "\n",
    "    file_registry.append({\n",
    "        'file_name': blob_name,\n",
    "        'file_id': blob_id,\n",
    "        'file_size': blob_size,\n",
    "        'file_path': download_file_path,\n",
    "\n",
    "    })\n",
    "    print(blob.name)"
   ]
  },
  {
   "cell_type": "code",
   "execution_count": 6,
   "metadata": {},
   "outputs": [
    {
     "data": {
      "text/plain": [
       "{'name': 'prison/releases/releases-q42018.ods', 'container': 'bronze', 'snapshot': None, 'version_id': None, 'is_current_version': None, 'blob_type': <BlobType.BLOCKBLOB: 'BlockBlob'>, 'metadata': {}, 'encrypted_metadata': None, 'last_modified': datetime.datetime(2025, 2, 6, 14, 22, 45, tzinfo=datetime.timezone.utc), 'etag': '0x8DD46B9B989FBBB', 'size': 80834, 'content_range': None, 'append_blob_committed_block_count': None, 'is_append_blob_sealed': None, 'page_blob_sequence_number': None, 'server_encrypted': True, 'copy': {'id': None, 'source': None, 'status': None, 'progress': None, 'completion_time': None, 'status_description': None, 'incremental_copy': None, 'destination_snapshot': None}, 'content_settings': {'content_type': 'application/vnd.oasis.opendocument.spreadsheet', 'content_encoding': None, 'content_language': None, 'content_md5': bytearray(b'\\xcd\\xb2N.]\\xf4\\x1dR]\\x1c@\\xfa\\xf0K\\xf8g'), 'content_disposition': None, 'cache_control': None}, 'lease': {'status': 'unlocked', 'state': 'available', 'duration': None}, 'blob_tier': 'Hot', 'rehydrate_priority': None, 'blob_tier_change_time': None, 'blob_tier_inferred': True, 'deleted': None, 'deleted_time': None, 'remaining_retention_days': None, 'creation_time': datetime.datetime(2025, 2, 6, 14, 22, 45, tzinfo=datetime.timezone.utc), 'archive_status': None, 'encryption_key_sha256': None, 'encryption_scope': None, 'request_server_encrypted': None, 'object_replication_source_properties': [], 'object_replication_destination_policy': None, 'last_accessed_on': None, 'tag_count': None, 'tags': None, 'immutability_policy': {'expiry_time': None, 'policy_mode': None}, 'has_legal_hold': None, 'has_versions_only': None}"
      ]
     },
     "execution_count": 6,
     "metadata": {},
     "output_type": "execute_result"
    }
   ],
   "source": [
    "blob"
   ]
  },
  {
   "cell_type": "code",
   "execution_count": 44,
   "metadata": {},
   "outputs": [],
   "source": [
    "from azure.identity import DefaultAzureCredential\n",
    "from azure.storage.fileshare import ShareServiceClient\n",
    "share_name = 'hack-hmt-criminal-justice'\n",
    "directories = ['CPS', 'prison_data', 'police_data']\n",
    "account_key = os.environ['AZURE_STORAGE_ACC_KEY']\n",
    "\n",
    "\n",
    "# Authenticate with Azure\n",
    "account_url = \"https://amlstorageacct5226.file.core.windows.net/\"\n",
    "service_client = ShareServiceClient(account_url=account_url, credential=account_key)\n",
    "share_client = service_client.get_share_client(share_name)\n",
    "directory_client = share_client.get_directory_client(\"\")  # Root directory\n",
    "\n",
    "\n"
   ]
  },
  {
   "cell_type": "code",
   "execution_count": 45,
   "metadata": {},
   "outputs": [
    {
     "data": {
      "text/plain": [
       "<azure.storage.fileshare._directory_client.ShareDirectoryClient at 0x12205d730>"
      ]
     },
     "execution_count": 45,
     "metadata": {},
     "output_type": "execute_result"
    }
   ],
   "source": [
    "directory_client"
   ]
  },
  {
   "cell_type": "code",
   "execution_count": 71,
   "metadata": {},
   "outputs": [
    {
     "name": "stdout",
     "output_type": "stream",
     "text": [
      "Additional features\n",
      "CPS\n",
      "Criminal Courts\n",
      "Criminal justice statistics\n",
      "police_data\n",
      "prison_data\n",
      "charges_by_Offence Code_and_crime_severity(in).csv\n",
      "Cross-CJS data (Police, Courts, Prisons).xlsx\n",
      "interpreters_tool.xlsx\n",
      "offence-group-classification-june-2024.ods\n",
      "outcomes-by-offence-june-2024.xlsx\n",
      "overview-tables-June-2024.ods\n",
      "pfatablesdec19.xlsx\n",
      "policeforceareatablesyearendingdec15.xls\n",
      "policeforceareatablesyearendingdec16.xls\n",
      "policeforceareatablesyearendingdec2017.xls\n",
      "policeforceareatablesyearendingdecember2018.xlsx\n",
      "policeFY_RecordedCharged_prc-outcomes-open-data-mar2019-tables-240724.xlsx\n",
      "policeQTRLY_RecordedOnly_quarterlydatatablesyemarch2024.xlsx\n",
      "population-31-march-2019.ods\n",
      "Population_30June2020.ods\n",
      "Population_30June2021_quarterly.ods\n",
      "Population_30Sep2020.ods\n",
      "Population_30Sep2021.ods\n",
      "Population_31Dec2019.xlsx\n",
      "Population_31Dec2020.ods\n",
      "Population_31March2020.ods\n",
      "Population_31_March_2021.ods\n",
      "Population_Q2_2019.xlsx\n",
      "prison-pop-december-2023.ods\n",
      "reception-q3-2018.ods\n",
      "receptions-q1-2019.ods\n",
      "receptions-q4-2018.ods\n",
      "Receptions_Q1_2020.ods\n",
      "Receptions_Q1_2021.ods\n",
      "Receptions_Q2_2019.xlsx\n",
      "Receptions_Q2_2020.ods\n",
      "Receptions_Q2_2021.ods\n",
      "Receptions_Q3_2019.xlsx\n",
      "Receptions_Q3_2020.ods\n",
      "Receptions_Q42019.ods\n",
      "Receptions_Q4_2020.ods\n",
      "releases-q1-2019.ods\n",
      "releases-q3-2018.ods\n",
      "releases-q42018.ods\n",
      "Releases_Q1_2020.ods\n",
      "Releases_Q1_2021.ods\n",
      "Releases_Q2_2019.xlsx\n",
      "Releases_Q2_2020.ods\n",
      "Releases_Q2_2021.ods\n",
      "Releases_Q3_2019.xlsx\n",
      "Releases_Q3_2020_Final.ods\n",
      "Releases_Q42019.ods\n",
      "Releases_Q4_2020.ods\n"
     ]
    }
   ],
   "source": [
    "file_list = directory_client.list_directories_and_files()\n",
    "for file_or_dir in file_list:\n",
    "    print(file_or_dir['name'])"
   ]
  },
  {
   "cell_type": "code",
   "execution_count": 57,
   "metadata": {},
   "outputs": [
    {
     "data": {
      "text/plain": [
       "{'name': 'Releases_Q4_2020.ods', 'path': None, 'share': None, 'snapshot': None, 'content_length': None, 'metadata': None, 'file_type': None, 'last_modified': None, 'etag': None, 'size': 93680, 'content_range': None, 'server_encrypted': None, 'copy': {'id': None, 'source': None, 'status': None, 'progress': None, 'completion_time': None, 'status_description': None, 'incremental_copy': None, 'destination_snapshot': None}, 'content_settings': {'content_type': None, 'content_encoding': None, 'content_language': None, 'content_md5': None, 'content_disposition': None, 'cache_control': None}, 'lease': {'status': None, 'state': None, 'duration': None}, 'change_time': None, 'creation_time': None, 'last_write_time': None, 'last_access_time': None, 'file_attributes': None, 'permission_key': None, 'file_id': '12682193725279961088', 'parent_id': None, 'is_directory': False}"
      ]
     },
     "execution_count": 57,
     "metadata": {},
     "output_type": "execute_result"
    }
   ],
   "source": [
    "file_or_dir"
   ]
  },
  {
   "cell_type": "code",
   "execution_count": 67,
   "metadata": {
    "vscode": {
     "languageId": "ruby"
    }
   },
   "outputs": [],
   "source": [
    "def download_file(directory_client, file_name, download_path):\n",
    "    file_client = directory_client.get_file_client(file_name)\n",
    "    with open(download_path, \"wb\") as file_handle:\n",
    "        data = file_client.download_file()\n",
    "        file_handle.write(data.readall())"
   ]
  },
  {
   "cell_type": "code",
   "execution_count": 69,
   "metadata": {
    "vscode": {
     "languageId": "ruby"
    }
   },
   "outputs": [],
   "source": [
    "file_registry = []\n",
    "for file in file_list:\n",
    "    print('.')\n",
    "    if file.is_directory:\n",
    "        continue\n",
    "        print('file is directory')\n",
    "    file_name = file['name']\n",
    "    file_id = file['file_id']\n",
    "    file_size = file['file_size']\n",
    "    file_path = f'data/{file_name}'\n",
    "    file_client = directory_client.get_file_client(file_name)\n",
    "    download_file(directory_client, file_name, file_path)\n",
    "\n",
    "    file_registry.append({\n",
    "        'file_name': file_name,\n",
    "        'file_id': file_id,\n",
    "        'file_size': file_size,\n",
    "        'file_path': file_path\n",
    "    })\n"
   ]
  },
  {
   "cell_type": "code",
   "execution_count": 65,
   "metadata": {
    "vscode": {
     "languageId": "ruby"
    }
   },
   "outputs": [],
   "source": [
    "for file in file_list:\n",
    "    print(file)"
   ]
  },
  {
   "cell_type": "code",
   "execution_count": null,
   "metadata": {
    "vscode": {
     "languageId": "ruby"
    }
   },
   "outputs": [],
   "source": []
  },
  {
   "cell_type": "code",
   "execution_count": null,
   "metadata": {
    "vscode": {
     "languageId": "ruby"
    }
   },
   "outputs": [],
   "source": []
  },
  {
   "cell_type": "code",
   "execution_count": null,
   "metadata": {
    "vscode": {
     "languageId": "ruby"
    }
   },
   "outputs": [],
   "source": []
  },
  {
   "cell_type": "code",
   "execution_count": null,
   "metadata": {
    "vscode": {
     "languageId": "ruby"
    }
   },
   "outputs": [],
   "source": []
  },
  {
   "cell_type": "code",
   "execution_count": null,
   "metadata": {
    "vscode": {
     "languageId": "ruby"
    }
   },
   "outputs": [],
   "source": []
  },
  {
   "cell_type": "code",
   "execution_count": null,
   "metadata": {
    "vscode": {
     "languageId": "ruby"
    }
   },
   "outputs": [],
   "source": []
  },
  {
   "cell_type": "code",
   "execution_count": null,
   "metadata": {
    "vscode": {
     "languageId": "ruby"
    }
   },
   "outputs": [],
   "source": []
  }
 ],
 "metadata": {
  "kernelspec": {
   "display_name": ".venv",
   "language": "python",
   "name": "python3"
  },
  "language_info": {
   "codemirror_mode": {
    "name": "ipython",
    "version": 3
   },
   "file_extension": ".py",
   "mimetype": "text/x-python",
   "name": "python",
   "nbconvert_exporter": "python",
   "pygments_lexer": "ipython3",
   "version": "3.9.6"
  }
 },
 "nbformat": 4,
 "nbformat_minor": 2
}
