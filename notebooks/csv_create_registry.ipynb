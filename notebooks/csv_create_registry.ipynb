{
 "cells": [
  {
   "cell_type": "code",
   "execution_count": null,
   "metadata": {},
   "outputs": [],
   "source": []
  },
  {
   "cell_type": "code",
   "execution_count": 30,
   "metadata": {},
   "outputs": [
    {
     "name": "stdout",
     "output_type": "stream",
     "text": [
      "Requirement already satisfied: azure-mgmt-storage in /Users/anastasiagordeeva/projects/hack-hmt-criminal-justice/.venv/lib/python3.9/site-packages (21.2.0)\n",
      "Requirement already satisfied: azure-mgmt-core>=1.3.2 in /Users/anastasiagordeeva/projects/hack-hmt-criminal-justice/.venv/lib/python3.9/site-packages (from azure-mgmt-storage) (1.5.0)\n",
      "Requirement already satisfied: isodate>=0.6.1 in /Users/anastasiagordeeva/projects/hack-hmt-criminal-justice/.venv/lib/python3.9/site-packages (from azure-mgmt-storage) (0.7.2)\n",
      "Requirement already satisfied: azure-common>=1.1 in /Users/anastasiagordeeva/projects/hack-hmt-criminal-justice/.venv/lib/python3.9/site-packages (from azure-mgmt-storage) (1.1.28)\n",
      "Requirement already satisfied: azure-core>=1.31.0 in /Users/anastasiagordeeva/projects/hack-hmt-criminal-justice/.venv/lib/python3.9/site-packages (from azure-mgmt-core>=1.3.2->azure-mgmt-storage) (1.32.0)\n",
      "Requirement already satisfied: requests>=2.21.0 in /Users/anastasiagordeeva/projects/hack-hmt-criminal-justice/.venv/lib/python3.9/site-packages (from azure-core>=1.31.0->azure-mgmt-core>=1.3.2->azure-mgmt-storage) (2.32.3)\n",
      "Requirement already satisfied: typing-extensions>=4.6.0 in /Users/anastasiagordeeva/projects/hack-hmt-criminal-justice/.venv/lib/python3.9/site-packages (from azure-core>=1.31.0->azure-mgmt-core>=1.3.2->azure-mgmt-storage) (4.12.2)\n",
      "Requirement already satisfied: six>=1.11.0 in /Users/anastasiagordeeva/projects/hack-hmt-criminal-justice/.venv/lib/python3.9/site-packages (from azure-core>=1.31.0->azure-mgmt-core>=1.3.2->azure-mgmt-storage) (1.17.0)\n",
      "Requirement already satisfied: urllib3<3,>=1.21.1 in /Users/anastasiagordeeva/projects/hack-hmt-criminal-justice/.venv/lib/python3.9/site-packages (from requests>=2.21.0->azure-core>=1.31.0->azure-mgmt-core>=1.3.2->azure-mgmt-storage) (2.3.0)\n",
      "Requirement already satisfied: charset-normalizer<4,>=2 in /Users/anastasiagordeeva/projects/hack-hmt-criminal-justice/.venv/lib/python3.9/site-packages (from requests>=2.21.0->azure-core>=1.31.0->azure-mgmt-core>=1.3.2->azure-mgmt-storage) (3.4.1)\n",
      "Requirement already satisfied: certifi>=2017.4.17 in /Users/anastasiagordeeva/projects/hack-hmt-criminal-justice/.venv/lib/python3.9/site-packages (from requests>=2.21.0->azure-core>=1.31.0->azure-mgmt-core>=1.3.2->azure-mgmt-storage) (2025.1.31)\n",
      "Requirement already satisfied: idna<4,>=2.5 in /Users/anastasiagordeeva/projects/hack-hmt-criminal-justice/.venv/lib/python3.9/site-packages (from requests>=2.21.0->azure-core>=1.31.0->azure-mgmt-core>=1.3.2->azure-mgmt-storage) (3.10)\n",
      "\u001b[33mWARNING: You are using pip version 21.2.4; however, version 25.0 is available.\n",
      "You should consider upgrading via the '/Users/anastasiagordeeva/projects/hack-hmt-criminal-justice/.venv/bin/python -m pip install --upgrade pip' command.\u001b[0m\n",
      "Note: you may need to restart the kernel to use updated packages.\n",
      "Requirement already satisfied: azure-identity in /Users/anastasiagordeeva/projects/hack-hmt-criminal-justice/.venv/lib/python3.9/site-packages (1.19.0)\n",
      "Requirement already satisfied: msal>=1.30.0 in /Users/anastasiagordeeva/projects/hack-hmt-criminal-justice/.venv/lib/python3.9/site-packages (from azure-identity) (1.31.1)\n",
      "Requirement already satisfied: azure-core>=1.31.0 in /Users/anastasiagordeeva/projects/hack-hmt-criminal-justice/.venv/lib/python3.9/site-packages (from azure-identity) (1.32.0)\n",
      "Requirement already satisfied: typing-extensions>=4.0.0 in /Users/anastasiagordeeva/projects/hack-hmt-criminal-justice/.venv/lib/python3.9/site-packages (from azure-identity) (4.12.2)\n",
      "Requirement already satisfied: msal-extensions>=1.2.0 in /Users/anastasiagordeeva/projects/hack-hmt-criminal-justice/.venv/lib/python3.9/site-packages (from azure-identity) (1.2.0)\n",
      "Requirement already satisfied: cryptography>=2.5 in /Users/anastasiagordeeva/projects/hack-hmt-criminal-justice/.venv/lib/python3.9/site-packages (from azure-identity) (44.0.0)\n",
      "Requirement already satisfied: six>=1.11.0 in /Users/anastasiagordeeva/projects/hack-hmt-criminal-justice/.venv/lib/python3.9/site-packages (from azure-core>=1.31.0->azure-identity) (1.17.0)\n",
      "Requirement already satisfied: requests>=2.21.0 in /Users/anastasiagordeeva/projects/hack-hmt-criminal-justice/.venv/lib/python3.9/site-packages (from azure-core>=1.31.0->azure-identity) (2.32.3)\n",
      "Requirement already satisfied: cffi>=1.12 in /Users/anastasiagordeeva/projects/hack-hmt-criminal-justice/.venv/lib/python3.9/site-packages (from cryptography>=2.5->azure-identity) (1.17.1)\n",
      "Requirement already satisfied: pycparser in /Users/anastasiagordeeva/projects/hack-hmt-criminal-justice/.venv/lib/python3.9/site-packages (from cffi>=1.12->cryptography>=2.5->azure-identity) (2.22)\n",
      "Requirement already satisfied: PyJWT[crypto]<3,>=1.0.0 in /Users/anastasiagordeeva/projects/hack-hmt-criminal-justice/.venv/lib/python3.9/site-packages (from msal>=1.30.0->azure-identity) (2.10.1)\n",
      "Requirement already satisfied: portalocker<3,>=1.4 in /Users/anastasiagordeeva/projects/hack-hmt-criminal-justice/.venv/lib/python3.9/site-packages (from msal-extensions>=1.2.0->azure-identity) (2.10.1)\n",
      "Requirement already satisfied: charset-normalizer<4,>=2 in /Users/anastasiagordeeva/projects/hack-hmt-criminal-justice/.venv/lib/python3.9/site-packages (from requests>=2.21.0->azure-core>=1.31.0->azure-identity) (3.4.1)\n",
      "Requirement already satisfied: idna<4,>=2.5 in /Users/anastasiagordeeva/projects/hack-hmt-criminal-justice/.venv/lib/python3.9/site-packages (from requests>=2.21.0->azure-core>=1.31.0->azure-identity) (3.10)\n",
      "Requirement already satisfied: urllib3<3,>=1.21.1 in /Users/anastasiagordeeva/projects/hack-hmt-criminal-justice/.venv/lib/python3.9/site-packages (from requests>=2.21.0->azure-core>=1.31.0->azure-identity) (2.3.0)\n",
      "Requirement already satisfied: certifi>=2017.4.17 in /Users/anastasiagordeeva/projects/hack-hmt-criminal-justice/.venv/lib/python3.9/site-packages (from requests>=2.21.0->azure-core>=1.31.0->azure-identity) (2025.1.31)\n",
      "\u001b[33mWARNING: You are using pip version 21.2.4; however, version 25.0 is available.\n",
      "You should consider upgrading via the '/Users/anastasiagordeeva/projects/hack-hmt-criminal-justice/.venv/bin/python -m pip install --upgrade pip' command.\u001b[0m\n",
      "Note: you may need to restart the kernel to use updated packages.\n",
      "Requirement already satisfied: azure-storage-file-share in /Users/anastasiagordeeva/projects/hack-hmt-criminal-justice/.venv/lib/python3.9/site-packages (12.20.1)\n",
      "Requirement already satisfied: isodate>=0.6.1 in /Users/anastasiagordeeva/projects/hack-hmt-criminal-justice/.venv/lib/python3.9/site-packages (from azure-storage-file-share) (0.7.2)\n",
      "Requirement already satisfied: azure-core>=1.30.0 in /Users/anastasiagordeeva/projects/hack-hmt-criminal-justice/.venv/lib/python3.9/site-packages (from azure-storage-file-share) (1.32.0)\n",
      "Requirement already satisfied: cryptography>=2.1.4 in /Users/anastasiagordeeva/projects/hack-hmt-criminal-justice/.venv/lib/python3.9/site-packages (from azure-storage-file-share) (44.0.0)\n",
      "Requirement already satisfied: typing-extensions>=4.6.0 in /Users/anastasiagordeeva/projects/hack-hmt-criminal-justice/.venv/lib/python3.9/site-packages (from azure-storage-file-share) (4.12.2)\n",
      "Requirement already satisfied: six>=1.11.0 in /Users/anastasiagordeeva/projects/hack-hmt-criminal-justice/.venv/lib/python3.9/site-packages (from azure-core>=1.30.0->azure-storage-file-share) (1.17.0)\n",
      "Requirement already satisfied: requests>=2.21.0 in /Users/anastasiagordeeva/projects/hack-hmt-criminal-justice/.venv/lib/python3.9/site-packages (from azure-core>=1.30.0->azure-storage-file-share) (2.32.3)\n",
      "Requirement already satisfied: cffi>=1.12 in /Users/anastasiagordeeva/projects/hack-hmt-criminal-justice/.venv/lib/python3.9/site-packages (from cryptography>=2.1.4->azure-storage-file-share) (1.17.1)\n",
      "Requirement already satisfied: pycparser in /Users/anastasiagordeeva/projects/hack-hmt-criminal-justice/.venv/lib/python3.9/site-packages (from cffi>=1.12->cryptography>=2.1.4->azure-storage-file-share) (2.22)\n",
      "Requirement already satisfied: certifi>=2017.4.17 in /Users/anastasiagordeeva/projects/hack-hmt-criminal-justice/.venv/lib/python3.9/site-packages (from requests>=2.21.0->azure-core>=1.30.0->azure-storage-file-share) (2025.1.31)\n",
      "Requirement already satisfied: idna<4,>=2.5 in /Users/anastasiagordeeva/projects/hack-hmt-criminal-justice/.venv/lib/python3.9/site-packages (from requests>=2.21.0->azure-core>=1.30.0->azure-storage-file-share) (3.10)\n",
      "Requirement already satisfied: charset-normalizer<4,>=2 in /Users/anastasiagordeeva/projects/hack-hmt-criminal-justice/.venv/lib/python3.9/site-packages (from requests>=2.21.0->azure-core>=1.30.0->azure-storage-file-share) (3.4.1)\n",
      "Requirement already satisfied: urllib3<3,>=1.21.1 in /Users/anastasiagordeeva/projects/hack-hmt-criminal-justice/.venv/lib/python3.9/site-packages (from requests>=2.21.0->azure-core>=1.30.0->azure-storage-file-share) (2.3.0)\n",
      "\u001b[33mWARNING: You are using pip version 21.2.4; however, version 25.0 is available.\n",
      "You should consider upgrading via the '/Users/anastasiagordeeva/projects/hack-hmt-criminal-justice/.venv/bin/python -m pip install --upgrade pip' command.\u001b[0m\n",
      "Note: you may need to restart the kernel to use updated packages.\n",
      "Collecting python-dotenv\n",
      "  Downloading python_dotenv-1.0.1-py3-none-any.whl (19 kB)\n",
      "Installing collected packages: python-dotenv\n",
      "Successfully installed python-dotenv-1.0.1\n",
      "\u001b[33mWARNING: You are using pip version 21.2.4; however, version 25.0 is available.\n",
      "You should consider upgrading via the '/Users/anastasiagordeeva/projects/hack-hmt-criminal-justice/.venv/bin/python -m pip install --upgrade pip' command.\u001b[0m\n",
      "Note: you may need to restart the kernel to use updated packages.\n"
     ]
    }
   ],
   "source": [
    "%pip install azure-mgmt-storage\n",
    "%pip install azure-identity\n",
    "%pip install azure-storage-file-share\n",
    "%pip install python-dotenv"
   ]
  },
  {
   "cell_type": "code",
   "execution_count": 32,
   "metadata": {},
   "outputs": [
    {
     "data": {
      "text/plain": [
       "True"
      ]
     },
     "execution_count": 32,
     "metadata": {},
     "output_type": "execute_result"
    }
   ],
   "source": [
    "import os\n",
    "import sys\n",
    "from dotenv import load_dotenv\n",
    "load_dotenv()"
   ]
  },
  {
   "cell_type": "code",
   "execution_count": 44,
   "metadata": {},
   "outputs": [],
   "source": [
    "from azure.identity import DefaultAzureCredential\n",
    "from azure.storage.fileshare import ShareServiceClient\n",
    "share_name = 'hack-hmt-criminal-justice'\n",
    "directories = ['CPS', 'prison_data', 'police_data']\n",
    "account_key = os.environ['AZURE_STORAGE_ACC_KEY']\n",
    "\n",
    "\n",
    "# Authenticate with Azure\n",
    "account_url = \"https://amlstorageacct5226.file.core.windows.net/\"\n",
    "service_client = ShareServiceClient(account_url=account_url, credential=account_key)\n",
    "share_client = service_client.get_share_client(share_name)\n",
    "directory_client = share_client.get_directory_client(\"\")  # Root directory\n",
    "\n",
    "\n"
   ]
  },
  {
   "cell_type": "code",
   "execution_count": 45,
   "metadata": {},
   "outputs": [
    {
     "data": {
      "text/plain": [
       "<azure.storage.fileshare._directory_client.ShareDirectoryClient at 0x12205d730>"
      ]
     },
     "execution_count": 45,
     "metadata": {},
     "output_type": "execute_result"
    }
   ],
   "source": [
    "directory_client"
   ]
  },
  {
   "cell_type": "code",
   "execution_count": 46,
   "metadata": {},
   "outputs": [
    {
     "name": "stdout",
     "output_type": "stream",
     "text": [
      "Additional features\n",
      "CPS\n",
      "police_data\n",
      "prison_data\n",
      "ccsq_accessible_publication_tables_2024Q3.ods\n",
      "charges_by_Offence Code_and_crime_severity(in).csv\n",
      "CPS-Court-Caseload-Tables-Q2-24-25.xlsx\n",
      "CPS-Court-Caseload-Tables-Q3-23-24.xlsx\n",
      "Cross-CJS data (Police, Courts, Prisons).xlsx\n",
      "interpreters_tool.xlsx\n",
      "offence-group-classification-june-2024.ods\n",
      "outcomes-by-offence-june-2024.xlsx\n",
      "overview-tables-June-2024.ods\n",
      "pfatablesdec19.xlsx\n",
      "policeforceareatablesyearendingdec15.xls\n",
      "policeforceareatablesyearendingdec16.xls\n",
      "policeforceareatablesyearendingdec2017.xls\n",
      "policeforceareatablesyearendingdecember2018.xlsx\n",
      "policeFY_RecordedCharged_prc-outcomes-open-data-mar2019-tables-240724.xlsx\n",
      "policeQTRLY_RecordedOnly_quarterlydatatablesyemarch2024.xlsx\n",
      "population-30June2019-quarterly.ods\n",
      "population-31-december-18-quarterly.ods\n",
      "population-31-march-2019.ods\n",
      "Population_30June2020.ods\n",
      "Population_30June2021_quarterly.ods\n",
      "Population_30Sep2020.ods\n",
      "Population_30Sep2021.ods\n",
      "Population_31Dec2019.xlsx\n",
      "Population_31Dec2020.ods\n",
      "Population_31March2020.ods\n",
      "Population_31_March_2021.ods\n",
      "Population_Q2_2019.xlsx\n",
      "Pre-Charge Data Tables Year Ending December 2020_0.xlsx\n",
      "Pre-Charge-Data-Tables-Q2-24-25.xlsx\n",
      "Pre-Charge-Data-Tables-Year-Ending-Dec-2022.xlsx\n",
      "Pre-Charge-Data-Tables-Year-Ending-December-2019.xlsx\n",
      "Pre-Charge-Data-Tables-Year-Ending-December-2021.xlsx\n",
      "Pre-Charge-Quarterly-Reports-Q3-23-24-updated-Sept-24.xlsx\n",
      "prison-pop-december-2023.ods\n",
      "Prosecution Data Tables Year Ending December 2020.xlsx\n",
      "Prosecution-Data-Tables-Q2-24-25.xlsx\n",
      "Prosecution-Data-Tables-Q3-23-24.xlsx\n",
      "Prosecution-Data-Tables-Year-Ending-Dec-2022.xlsx\n",
      "Prosecution-Data-Tables-Year-Ending-December-19_0.xlsx\n",
      "Prosecution-Data-Tables-Year-Ending-December-2021.xlsx\n",
      "reception-q3-2018.ods\n",
      "receptions-q1-2019.ods\n",
      "receptions-q4-2018.ods\n",
      "Receptions_Q1_2020.ods\n",
      "Receptions_Q1_2021.ods\n",
      "Receptions_Q2_2019.xlsx\n",
      "Receptions_Q2_2020.ods\n",
      "Receptions_Q2_2021.ods\n",
      "Receptions_Q3_2019.xlsx\n",
      "Receptions_Q3_2020.ods\n",
      "Receptions_Q42019.ods\n",
      "Receptions_Q4_2020.ods\n",
      "releases-q1-2019.ods\n",
      "releases-q3-2018.ods\n",
      "releases-q42018.ods\n",
      "Releases_Q1_2020.ods\n",
      "Releases_Q1_2021.ods\n",
      "Releases_Q2_2019.xlsx\n",
      "Releases_Q2_2020.ods\n",
      "Releases_Q2_2021.ods\n",
      "Releases_Q3_2019.xlsx\n",
      "Releases_Q3_2020_Final.ods\n",
      "Releases_Q42019.ods\n",
      "Releases_Q4_2020.ods\n"
     ]
    }
   ],
   "source": [
    "file_list = directory_client.list_directories_and_files()\n",
    "for file_or_dir in file_list:\n",
    "    print(file_or_dir['name'])"
   ]
  },
  {
   "cell_type": "code",
   "execution_count": 56,
   "metadata": {
    "vscode": {
     "languageId": "ruby"
    }
   },
   "outputs": [],
   "source": [
    "def download_file(directory_client, file_name, download_path):\n",
    "    file_client = directory_client.get_file_client(file_name)\n",
    "    with open(download_path, \"wb\") as file_handle:\n",
    "        data = file_client.download_file()\n",
    "        file_handle.write(data.readall())\n",
    "\n",
    "# Example usage\n",
    "file_name = 'Releases_Q4_2020.ods'\n",
    "download_path = f'../data/{file_name}'\n",
    "download_file(directory_client, file_name, download_path)"
   ]
  }
 ],
 "metadata": {
  "kernelspec": {
   "display_name": ".venv",
   "language": "python",
   "name": "python3"
  },
  "language_info": {
   "codemirror_mode": {
    "name": "ipython",
    "version": 3
   },
   "file_extension": ".py",
   "mimetype": "text/x-python",
   "name": "python",
   "nbconvert_exporter": "python",
   "pygments_lexer": "ipython3",
   "version": "3.9.6"
  }
 },
 "nbformat": 4,
 "nbformat_minor": 2
}
